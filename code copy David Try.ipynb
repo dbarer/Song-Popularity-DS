{
 "cells": [
  {
   "cell_type": "code",
   "execution_count": 1,
   "metadata": {},
   "outputs": [],
   "source": [
    "import pandas as pd\n",
    "import numpy as np\n",
    "import seaborn as sns\n",
    "import matplotlib.pyplot as plt\n",
    "from sklearn import linear_model  # will be using for plotting trend line\n",
    "from sklearn.preprocessing import MinMaxScaler # for normalizing data\n",
    "from sklearn.cluster import KMeans \n",
    "from difflib import SequenceMatcher\n",
    "%matplotlib inline"
   ]
  },
  {
   "cell_type": "code",
   "execution_count": 2,
   "metadata": {},
   "outputs": [],
   "source": [
    "spotify = pd.read_csv('data.csv')\n",
    "spotify.head(1) \n",
    "spotify = spotify[spotify['year'] >= 1946]"
   ]
  },
  {
   "cell_type": "code",
   "execution_count": 3,
   "metadata": {},
   "outputs": [],
   "source": [
    "all_billboard_df = pd.read_csv('billboard_data_updated.csv')\n",
    "spotify['Top100'] = 0"
   ]
  },
  {
   "cell_type": "code",
   "execution_count": 201,
   "metadata": {},
   "outputs": [],
   "source": [
    "# spotify[spotify['artists'] == \"['DJ Jazzy Jeff & The Fresh Prince']\"]\n"
   ]
  },
  {
   "cell_type": "code",
   "execution_count": 202,
   "metadata": {},
   "outputs": [],
   "source": [
    "# all_billboard_df[all_billboard_df['Title'] == 'Summertime']"
   ]
  },
  {
   "cell_type": "code",
   "execution_count": 98,
   "metadata": {},
   "outputs": [
    {
     "data": {
      "text/plain": [
       "False"
      ]
     },
     "execution_count": 98,
     "metadata": {},
     "output_type": "execute_result"
    }
   ],
   "source": [
    " #assign an indicator next for each song to indicate if that eexact song was ever in the top100\n",
    "#spotify = spotify.assign(Top100=(spotify.name.isin(all_billboard_df.Title) and spotify.artists.isin(all_billboard_df.Artist)).astype(int)) \n",
    "\n",
    " \n",
    "##maybe loosen this to see if its not matching songs when just the capitalization or something stupid is off\n",
    "\n",
    "#all_billboard_df.Artist.str.contains(spotify.artists).value_counts()\n",
    "#double merge song and artist\n",
    "#spotify.artists.str.contains(all_billboard_df.Artist)\n",
    "all_billboard_df.Artist.str.contains(\"Art\").value_counts()\n",
    "#spotify.artists.str.contains(all_billboard_df.Artist)\n",
    "\"artists = spotify.artists.tolist()\"\n",
    "#Artists = all_billboard_df.Artist.tolist()\n",
    "Artists[2] in spotify.artists"
   ]
  },
  {
   "cell_type": "code",
   "execution_count": 4,
   "metadata": {},
   "outputs": [],
   "source": [
    "def similar(a, b):\n",
    "    return SequenceMatcher(None, a, b).ratio() > .5\n",
    "\n",
    "\n",
    "#similar(\"Hello st\", \"c\")"
   ]
  },
  {
   "cell_type": "code",
   "execution_count": null,
   "metadata": {},
   "outputs": [],
   "source": [
    "#spotify['Top100'] = 0\n",
    "for i in range(33620, len(spotify)):\n",
    "    for j in range(len(all_billboard_df)):\n",
    "        if((spotify.iloc[i, spotify.columns.get_loc('name')] == all_billboard_df.iloc[j, all_billboard_df.columns.get_loc('Title')]) and similar((all_billboard_df.iloc[j, all_billboard_df.columns.get_loc('Artist')]), spotify.iloc[i, spotify.columns.get_loc('artists')])): \n",
    "            spotify.iloc[i, spotify.columns.get_loc('Top100')] = 1\n",
    "            break\n",
    "           "
   ]
  },
  {
   "cell_type": "code",
   "execution_count": 18,
   "metadata": {},
   "outputs": [
    {
     "data": {
      "text/plain": [
       "0    148085\n",
       "1       471\n",
       "Name: Top100, dtype: int64"
      ]
     },
     "execution_count": 18,
     "metadata": {},
     "output_type": "execute_result"
    }
   ],
   "source": [
    "spotify['Top100'].value_counts()"
   ]
  },
  {
   "cell_type": "code",
   "execution_count": 19,
   "metadata": {},
   "outputs": [
    {
     "data": {
      "text/plain": [
       "33620"
      ]
     },
     "execution_count": 19,
     "metadata": {},
     "output_type": "execute_result"
    }
   ],
   "source": [
    "i"
   ]
  },
  {
   "cell_type": "code",
   "execution_count": 204,
   "metadata": {},
   "outputs": [],
   "source": [
    "# notpop = spotify[spotify['Top100'] == 0]\n",
    "# notpop['name'].value_counts()"
   ]
  },
  {
   "cell_type": "code",
   "execution_count": 205,
   "metadata": {},
   "outputs": [],
   "source": [
    "# #data frame of just the songs that are top100 songs -- could be useful\n",
    "# popular = spotify.loc[spotify['Top100'] == 1]\n",
    "# popular.tail()\n"
   ]
  },
  {
   "cell_type": "code",
   "execution_count": 207,
   "metadata": {},
   "outputs": [],
   "source": [
    "# #add an indicator for every song to indicate if that artist has ever had a song in the top100, even if this song may not be a hit\n",
    "# #this column will be good for the part where we coontrol for popular artists and try to figure out why only some of their songs are \"hits\"\n",
    "\n",
    "# spotify = spotify.assign(pop_artist=spotify.artists.isin(all_billboard_df.Artist).astype(int)) \n",
    "\n",
    "#still want to put in an artist pop indicator using similar function ---\n"
   ]
  },
  {
   "cell_type": "code",
   "execution_count": 208,
   "metadata": {},
   "outputs": [],
   "source": [
    "# #count the number of songs in spotify that come from a top100 artist\n",
    "# counts_1 = spotify[['pop_artist', \"name\"]].rename(columns={\"name\": \"count\"}).groupby(\"pop_artist\").count()\n",
    "# counts_1\n"
   ]
  },
  {
   "cell_type": "code",
   "execution_count": 108,
   "metadata": {},
   "outputs": [],
   "source": [
    "spotify.to_csv('spotify_billboard_data_merged.csv', index=False,)"
   ]
  },
  {
   "cell_type": "code",
   "execution_count": 164,
   "metadata": {},
   "outputs": [],
   "source": [
    "top100 = spotify[spotify['Top100'] == 1]"
   ]
  },
  {
   "cell_type": "code",
   "execution_count": 167,
   "metadata": {},
   "outputs": [],
   "source": [
    "top100.to_csv('billboard spotify songs.csv', index=False)"
   ]
  },
  {
   "cell_type": "code",
   "execution_count": 168,
   "metadata": {},
   "outputs": [
    {
     "data": {
      "text/html": [
       "<div>\n",
       "<style scoped>\n",
       "    .dataframe tbody tr th:only-of-type {\n",
       "        vertical-align: middle;\n",
       "    }\n",
       "\n",
       "    .dataframe tbody tr th {\n",
       "        vertical-align: top;\n",
       "    }\n",
       "\n",
       "    .dataframe thead th {\n",
       "        text-align: right;\n",
       "    }\n",
       "</style>\n",
       "<table border=\"1\" class=\"dataframe\">\n",
       "  <thead>\n",
       "    <tr style=\"text-align: right;\">\n",
       "      <th></th>\n",
       "      <th>acousticness</th>\n",
       "      <th>artists</th>\n",
       "      <th>danceability</th>\n",
       "      <th>duration_ms</th>\n",
       "      <th>energy</th>\n",
       "      <th>explicit</th>\n",
       "      <th>id</th>\n",
       "      <th>instrumentalness</th>\n",
       "      <th>key</th>\n",
       "      <th>liveness</th>\n",
       "      <th>loudness</th>\n",
       "      <th>mode</th>\n",
       "      <th>name</th>\n",
       "      <th>popularity</th>\n",
       "      <th>release_date</th>\n",
       "      <th>speechiness</th>\n",
       "      <th>tempo</th>\n",
       "      <th>valence</th>\n",
       "      <th>year</th>\n",
       "      <th>Top100</th>\n",
       "    </tr>\n",
       "  </thead>\n",
       "  <tbody>\n",
       "  </tbody>\n",
       "</table>\n",
       "</div>"
      ],
      "text/plain": [
       "Empty DataFrame\n",
       "Columns: [acousticness, artists, danceability, duration_ms, energy, explicit, id, instrumentalness, key, liveness, loudness, mode, name, popularity, release_date, speechiness, tempo, valence, year, Top100]\n",
       "Index: []"
      ]
     },
     "execution_count": 168,
     "metadata": {},
     "output_type": "execute_result"
    }
   ],
   "source": [
    "spotify[spotify['artists']=='Weezer']"
   ]
  }
 ],
 "metadata": {
  "kernelspec": {
   "display_name": "Python 3",
   "language": "python",
   "name": "python3"
  },
  "language_info": {
   "codemirror_mode": {
    "name": "ipython",
    "version": 3
   },
   "file_extension": ".py",
   "mimetype": "text/x-python",
   "name": "python",
   "nbconvert_exporter": "python",
   "pygments_lexer": "ipython3",
   "version": "3.7.6"
  }
 },
 "nbformat": 4,
 "nbformat_minor": 2
}
