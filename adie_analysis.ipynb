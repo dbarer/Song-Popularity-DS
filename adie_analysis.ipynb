{
 "cells": [
  {
   "cell_type": "code",
   "execution_count": 19,
   "metadata": {},
   "outputs": [],
   "source": [
    "import pandas as pd\n",
    "import numpy as np\n",
    "import matplotlib.pyplot as plt\n",
    "from sklearn import linear_model  # will be using for plotting trend line\n",
    "from sklearn.preprocessing import MinMaxScaler # for normalizing data\n",
    "from sklearn.cluster import KMeans \n",
    "pd.set_option('display.max_rows', 1000)\n",
    "%matplotlib inline\n",
    "from difflib import SequenceMatcher\n",
    "import seaborn as sn\n",
    "from sklearn.datasets import load_iris\n",
    "from sklearn.linear_model import LogisticRegression\n"
   ]
  },
  {
   "cell_type": "code",
   "execution_count": 14,
   "metadata": {},
   "outputs": [
    {
     "data": {
      "text/plain": [
       "(137014, 20)"
      ]
     },
     "execution_count": 14,
     "metadata": {},
     "output_type": "execute_result"
    }
   ],
   "source": [
    "data = pd.read_csv(\"final_cleaned_spotify.csv\")\n",
    "data.shape"
   ]
  },
  {
   "cell_type": "code",
   "execution_count": 15,
   "metadata": {},
   "outputs": [
    {
     "data": {
      "text/html": [
       "<div>\n",
       "<style scoped>\n",
       "    .dataframe tbody tr th:only-of-type {\n",
       "        vertical-align: middle;\n",
       "    }\n",
       "\n",
       "    .dataframe tbody tr th {\n",
       "        vertical-align: top;\n",
       "    }\n",
       "\n",
       "    .dataframe thead th {\n",
       "        text-align: right;\n",
       "    }\n",
       "</style>\n",
       "<table border=\"1\" class=\"dataframe\">\n",
       "  <thead>\n",
       "    <tr style=\"text-align: right;\">\n",
       "      <th></th>\n",
       "      <th>name</th>\n",
       "      <th>artists</th>\n",
       "      <th>acousticness</th>\n",
       "      <th>danceability</th>\n",
       "      <th>duration_ms</th>\n",
       "      <th>energy</th>\n",
       "      <th>explicit</th>\n",
       "      <th>instrumentalness</th>\n",
       "      <th>key</th>\n",
       "      <th>liveness</th>\n",
       "      <th>loudness</th>\n",
       "      <th>mode</th>\n",
       "      <th>popularity</th>\n",
       "      <th>speechiness</th>\n",
       "      <th>tempo</th>\n",
       "      <th>valence</th>\n",
       "      <th>year</th>\n",
       "      <th>pop_artist</th>\n",
       "      <th>Top100</th>\n",
       "      <th>artist_already_pop</th>\n",
       "    </tr>\n",
       "  </thead>\n",
       "  <tbody>\n",
       "    <tr>\n",
       "      <th>0</th>\n",
       "      <td>!Que Vida! - Mono Version</td>\n",
       "      <td>['Love']</td>\n",
       "      <td>0.525000</td>\n",
       "      <td>0.600</td>\n",
       "      <td>220560.0</td>\n",
       "      <td>0.540</td>\n",
       "      <td>0.0</td>\n",
       "      <td>0.00305</td>\n",
       "      <td>9.0</td>\n",
       "      <td>0.100</td>\n",
       "      <td>-11.803</td>\n",
       "      <td>1.0</td>\n",
       "      <td>26.0</td>\n",
       "      <td>0.0328</td>\n",
       "      <td>125.898</td>\n",
       "      <td>0.547</td>\n",
       "      <td>1966</td>\n",
       "      <td>0</td>\n",
       "      <td>0</td>\n",
       "      <td>0</td>\n",
       "    </tr>\n",
       "    <tr>\n",
       "      <th>1</th>\n",
       "      <td>\"40\"</td>\n",
       "      <td>['U2']</td>\n",
       "      <td>0.228000</td>\n",
       "      <td>0.368</td>\n",
       "      <td>157840.0</td>\n",
       "      <td>0.480</td>\n",
       "      <td>0.0</td>\n",
       "      <td>0.70700</td>\n",
       "      <td>8.0</td>\n",
       "      <td>0.159</td>\n",
       "      <td>-11.605</td>\n",
       "      <td>1.0</td>\n",
       "      <td>21.0</td>\n",
       "      <td>0.0306</td>\n",
       "      <td>150.166</td>\n",
       "      <td>0.338</td>\n",
       "      <td>1983</td>\n",
       "      <td>0</td>\n",
       "      <td>0</td>\n",
       "      <td>0</td>\n",
       "    </tr>\n",
       "    <tr>\n",
       "      <th>2</th>\n",
       "      <td>\"40\" - Live</td>\n",
       "      <td>['U2']</td>\n",
       "      <td>0.099800</td>\n",
       "      <td>0.272</td>\n",
       "      <td>226200.0</td>\n",
       "      <td>0.684</td>\n",
       "      <td>0.0</td>\n",
       "      <td>0.01450</td>\n",
       "      <td>8.0</td>\n",
       "      <td>0.946</td>\n",
       "      <td>-9.728</td>\n",
       "      <td>1.0</td>\n",
       "      <td>41.0</td>\n",
       "      <td>0.0505</td>\n",
       "      <td>143.079</td>\n",
       "      <td>0.279</td>\n",
       "      <td>1983</td>\n",
       "      <td>0</td>\n",
       "      <td>0</td>\n",
       "      <td>0</td>\n",
       "    </tr>\n",
       "    <tr>\n",
       "      <th>3</th>\n",
       "      <td>\"40\" - Remastered 2008</td>\n",
       "      <td>['U2']</td>\n",
       "      <td>0.185000</td>\n",
       "      <td>0.371</td>\n",
       "      <td>157667.0</td>\n",
       "      <td>0.545</td>\n",
       "      <td>0.0</td>\n",
       "      <td>0.58200</td>\n",
       "      <td>8.0</td>\n",
       "      <td>0.183</td>\n",
       "      <td>-9.315</td>\n",
       "      <td>1.0</td>\n",
       "      <td>36.0</td>\n",
       "      <td>0.0307</td>\n",
       "      <td>150.316</td>\n",
       "      <td>0.310</td>\n",
       "      <td>1983</td>\n",
       "      <td>0</td>\n",
       "      <td>0</td>\n",
       "      <td>0</td>\n",
       "    </tr>\n",
       "    <tr>\n",
       "      <th>4</th>\n",
       "      <td>\"45\"</td>\n",
       "      <td>['The Gaslight Anthem']</td>\n",
       "      <td>0.000696</td>\n",
       "      <td>0.315</td>\n",
       "      <td>202493.0</td>\n",
       "      <td>0.970</td>\n",
       "      <td>0.0</td>\n",
       "      <td>0.00000</td>\n",
       "      <td>8.0</td>\n",
       "      <td>0.277</td>\n",
       "      <td>-4.709</td>\n",
       "      <td>1.0</td>\n",
       "      <td>48.0</td>\n",
       "      <td>0.1020</td>\n",
       "      <td>178.068</td>\n",
       "      <td>0.423</td>\n",
       "      <td>2012</td>\n",
       "      <td>1</td>\n",
       "      <td>0</td>\n",
       "      <td>0</td>\n",
       "    </tr>\n",
       "  </tbody>\n",
       "</table>\n",
       "</div>"
      ],
      "text/plain": [
       "                        name                  artists  acousticness  \\\n",
       "0  !Que Vida! - Mono Version                 ['Love']      0.525000   \n",
       "1                       \"40\"                   ['U2']      0.228000   \n",
       "2                \"40\" - Live                   ['U2']      0.099800   \n",
       "3     \"40\" - Remastered 2008                   ['U2']      0.185000   \n",
       "4                       \"45\"  ['The Gaslight Anthem']      0.000696   \n",
       "\n",
       "   danceability  duration_ms  energy  explicit  instrumentalness  key  \\\n",
       "0         0.600     220560.0   0.540       0.0           0.00305  9.0   \n",
       "1         0.368     157840.0   0.480       0.0           0.70700  8.0   \n",
       "2         0.272     226200.0   0.684       0.0           0.01450  8.0   \n",
       "3         0.371     157667.0   0.545       0.0           0.58200  8.0   \n",
       "4         0.315     202493.0   0.970       0.0           0.00000  8.0   \n",
       "\n",
       "   liveness  loudness  mode  popularity  speechiness    tempo  valence  year  \\\n",
       "0     0.100   -11.803   1.0        26.0       0.0328  125.898    0.547  1966   \n",
       "1     0.159   -11.605   1.0        21.0       0.0306  150.166    0.338  1983   \n",
       "2     0.946    -9.728   1.0        41.0       0.0505  143.079    0.279  1983   \n",
       "3     0.183    -9.315   1.0        36.0       0.0307  150.316    0.310  1983   \n",
       "4     0.277    -4.709   1.0        48.0       0.1020  178.068    0.423  2012   \n",
       "\n",
       "   pop_artist  Top100  artist_already_pop  \n",
       "0           0       0                   0  \n",
       "1           0       0                   0  \n",
       "2           0       0                   0  \n",
       "3           0       0                   0  \n",
       "4           1       0                   0  "
      ]
     },
     "execution_count": 15,
     "metadata": {},
     "output_type": "execute_result"
    }
   ],
   "source": [
    "data.head()"
   ]
  },
  {
   "cell_type": "code",
   "execution_count": 16,
   "metadata": {},
   "outputs": [
    {
     "data": {
      "text/plain": [
       "1    84394\n",
       "0    52620\n",
       "Name: pop_artist, dtype: int64"
      ]
     },
     "execution_count": 16,
     "metadata": {},
     "output_type": "execute_result"
    }
   ],
   "source": [
    "data[\"pop_artist\"].value_counts()\n"
   ]
  },
  {
   "cell_type": "code",
   "execution_count": 17,
   "metadata": {},
   "outputs": [
    {
     "data": {
      "text/plain": [
       "0    133342\n",
       "1      3672\n",
       "Name: Top100, dtype: int64"
      ]
     },
     "execution_count": 17,
     "metadata": {},
     "output_type": "execute_result"
    }
   ],
   "source": [
    "data[\"Top100\"].value_counts()"
   ]
  },
  {
   "cell_type": "code",
   "execution_count": 18,
   "metadata": {},
   "outputs": [
    {
     "data": {
      "text/plain": [
       "0    117543\n",
       "1     19471\n",
       "Name: artist_already_pop, dtype: int64"
      ]
     },
     "execution_count": 18,
     "metadata": {},
     "output_type": "execute_result"
    }
   ],
   "source": [
    "data[\"artist_already_pop\"].value_counts()"
   ]
  },
  {
   "cell_type": "code",
   "execution_count": null,
   "metadata": {},
   "outputs": [],
   "source": []
  },
  {
   "cell_type": "code",
   "execution_count": 67,
   "metadata": {},
   "outputs": [],
   "source": [
    "data_graph= data[[\"acousticness\",\"danceability\",\"energy\",\"instrumentalness\",\"liveness\",\"speechiness\",\"valence\",\"Top100\"]]\n",
    "data_graph = data_graph.groupby([\"Top100\"], as_index=False).mean()\n"
   ]
  },
  {
   "cell_type": "code",
   "execution_count": 73,
   "metadata": {},
   "outputs": [],
   "source": [
    "df = data_graph.transpose()\n",
    "df.columns = df.iloc[0]\n",
    "df = df[1:]\n",
    "df = df.rename(columns={df.columns[0]: \"Not Hit\", df.columns[1]: \"Hit\"})\n"
   ]
  },
  {
   "cell_type": "code",
   "execution_count": 74,
   "metadata": {},
   "outputs": [
    {
     "data": {
      "text/html": [
       "<div>\n",
       "<style scoped>\n",
       "    .dataframe tbody tr th:only-of-type {\n",
       "        vertical-align: middle;\n",
       "    }\n",
       "\n",
       "    .dataframe tbody tr th {\n",
       "        vertical-align: top;\n",
       "    }\n",
       "\n",
       "    .dataframe thead th {\n",
       "        text-align: right;\n",
       "    }\n",
       "</style>\n",
       "<table border=\"1\" class=\"dataframe\">\n",
       "  <thead>\n",
       "    <tr style=\"text-align: right;\">\n",
       "      <th>Top100</th>\n",
       "      <th>Not Hit</th>\n",
       "      <th>Hit</th>\n",
       "    </tr>\n",
       "  </thead>\n",
       "  <tbody>\n",
       "    <tr>\n",
       "      <th>acousticness</th>\n",
       "      <td>0.451176</td>\n",
       "      <td>0.273631</td>\n",
       "    </tr>\n",
       "    <tr>\n",
       "      <th>danceability</th>\n",
       "      <td>0.535693</td>\n",
       "      <td>0.618856</td>\n",
       "    </tr>\n",
       "    <tr>\n",
       "      <th>energy</th>\n",
       "      <td>0.515098</td>\n",
       "      <td>0.612351</td>\n",
       "    </tr>\n",
       "    <tr>\n",
       "      <th>instrumentalness</th>\n",
       "      <td>0.142370</td>\n",
       "      <td>0.024183</td>\n",
       "    </tr>\n",
       "    <tr>\n",
       "      <th>liveness</th>\n",
       "      <td>0.205931</td>\n",
       "      <td>0.175167</td>\n",
       "    </tr>\n",
       "    <tr>\n",
       "      <th>speechiness</th>\n",
       "      <td>0.081646</td>\n",
       "      <td>0.065930</td>\n",
       "    </tr>\n",
       "    <tr>\n",
       "      <th>valence</th>\n",
       "      <td>0.524557</td>\n",
       "      <td>0.605258</td>\n",
       "    </tr>\n",
       "  </tbody>\n",
       "</table>\n",
       "</div>"
      ],
      "text/plain": [
       "Top100             Not Hit       Hit\n",
       "acousticness      0.451176  0.273631\n",
       "danceability      0.535693  0.618856\n",
       "energy            0.515098  0.612351\n",
       "instrumentalness  0.142370  0.024183\n",
       "liveness          0.205931  0.175167\n",
       "speechiness       0.081646  0.065930\n",
       "valence           0.524557  0.605258"
      ]
     },
     "execution_count": 74,
     "metadata": {},
     "output_type": "execute_result"
    }
   ],
   "source": [
    "df"
   ]
  },
  {
   "cell_type": "code",
   "execution_count": 75,
   "metadata": {},
   "outputs": [
    {
     "data": {
      "text/plain": [
       "<matplotlib.axes._subplots.AxesSubplot at 0x1a1b00bd30>"
      ]
     },
     "execution_count": 75,
     "metadata": {},
     "output_type": "execute_result"
    },
    {
     "data": {
      "image/png": "[encoded data removed]",
      "text/plain": [
       "<Figure size 432x288 with 1 Axes>"
      ]
     },
     "metadata": {
      "needs_background": "light"
     },
     "output_type": "display_data"
    }
   ],
   "source": [
    "\n",
    "df.plot.barh()"
   ]
  },
  {
   "cell_type": "markdown",
   "metadata": {},
   "source": [
    "The predominant variables within the two categories are the same: energy, danceability and valence. The only difference is that the average values ​​of these variables are higher for the hit songs category."
   ]
  },
  {
   "cell_type": "code",
   "execution_count": null,
   "metadata": {},
   "outputs": [],
   "source": []
  },
  {
   "cell_type": "code",
   "execution_count": null,
   "metadata": {},
   "outputs": [],
   "source": []
  },
  {
   "cell_type": "code",
   "execution_count": 31,
   "metadata": {},
   "outputs": [
    {
     "name": "stderr",
     "output_type": "stream",
     "text": [
      "/Users/adiepresent/anaconda3/lib/python3.7/site-packages/sklearn/linear_model/logistic.py:433: FutureWarning: Default solver will be changed to 'lbfgs' in 0.22. Specify a solver to silence this warning.\n",
      "  FutureWarning)\n",
      "/Users/adiepresent/anaconda3/lib/python3.7/site-packages/sklearn/linear_model/logistic.py:433: FutureWarning: Default solver will be changed to 'lbfgs' in 0.22. Specify a solver to silence this warning.\n",
      "  FutureWarning)\n"
     ]
    },
    {
     "name": "stdout",
     "output_type": "stream",
     "text": [
      "[-1.09614514  2.18604006  0.19293436 -2.62178561 -0.80605497 -3.72191341\n",
      "  0.02450432]\n"
     ]
    }
   ],
   "source": [
    "X = data[[\"acousticness\",\"danceability\",\"energy\",\"instrumentalness\",\"liveness\",\"speechiness\",\"valence\"]]\n",
    "y = data[\"Top100\"]\n",
    "clf = LogisticRegression(random_state=0).fit(X, y)\n",
    "clf.fit(X, y)\n",
    "print(clf.coef_[0])\n",
    "weights = pd.DataFrame(columns=[\"Weights\", \"Coefficient\"])\n",
    "weights[\"Weights\"] = clf.coef_[0]\n",
    "weights[\"Coefficient\"] = X.columns\n"
   ]
  },
  {
   "cell_type": "code",
   "execution_count": 35,
   "metadata": {},
   "outputs": [
    {
     "data": {
      "text/html": [
       "<div>\n",
       "<style scoped>\n",
       "    .dataframe tbody tr th:only-of-type {\n",
       "        vertical-align: middle;\n",
       "    }\n",
       "\n",
       "    .dataframe tbody tr th {\n",
       "        vertical-align: top;\n",
       "    }\n",
       "\n",
       "    .dataframe thead th {\n",
       "        text-align: right;\n",
       "    }\n",
       "</style>\n",
       "<table border=\"1\" class=\"dataframe\">\n",
       "  <thead>\n",
       "    <tr style=\"text-align: right;\">\n",
       "      <th></th>\n",
       "      <th>Weights</th>\n",
       "      <th>Coefficient</th>\n",
       "    </tr>\n",
       "  </thead>\n",
       "  <tbody>\n",
       "    <tr>\n",
       "      <th>5</th>\n",
       "      <td>-3.721913</td>\n",
       "      <td>speechiness</td>\n",
       "    </tr>\n",
       "    <tr>\n",
       "      <th>3</th>\n",
       "      <td>-2.621786</td>\n",
       "      <td>instrumentalness</td>\n",
       "    </tr>\n",
       "    <tr>\n",
       "      <th>1</th>\n",
       "      <td>2.186040</td>\n",
       "      <td>danceability</td>\n",
       "    </tr>\n",
       "    <tr>\n",
       "      <th>0</th>\n",
       "      <td>-1.096145</td>\n",
       "      <td>acousticness</td>\n",
       "    </tr>\n",
       "    <tr>\n",
       "      <th>4</th>\n",
       "      <td>-0.806055</td>\n",
       "      <td>liveness</td>\n",
       "    </tr>\n",
       "    <tr>\n",
       "      <th>2</th>\n",
       "      <td>0.192934</td>\n",
       "      <td>energy</td>\n",
       "    </tr>\n",
       "    <tr>\n",
       "      <th>6</th>\n",
       "      <td>0.024504</td>\n",
       "      <td>valence</td>\n",
       "    </tr>\n",
       "  </tbody>\n",
       "</table>\n",
       "</div>"
      ],
      "text/plain": [
       "    Weights       Coefficient\n",
       "5 -3.721913       speechiness\n",
       "3 -2.621786  instrumentalness\n",
       "1  2.186040      danceability\n",
       "0 -1.096145      acousticness\n",
       "4 -0.806055          liveness\n",
       "2  0.192934            energy\n",
       "6  0.024504           valence"
      ]
     },
     "execution_count": 35,
     "metadata": {},
     "output_type": "execute_result"
    }
   ],
   "source": [
    "weights.reindex(weights.Weights.abs().sort_values(ascending=False).index)"
   ]
  },
  {
   "cell_type": "markdown",
   "metadata": {},
   "source": [
    "The weights really dont pain't a clear picture about which variables are predominant. -- actually paints the opossitve about what we intially thought the predominant variables were. \n",
    "\n"
   ]
  },
  {
   "cell_type": "code",
   "execution_count": 78,
   "metadata": {},
   "outputs": [
    {
     "name": "stderr",
     "output_type": "stream",
     "text": [
      "/Users/adiepresent/anaconda3/lib/python3.7/site-packages/sklearn/linear_model/logistic.py:433: FutureWarning: Default solver will be changed to 'lbfgs' in 0.22. Specify a solver to silence this warning.\n",
      "  FutureWarning)\n",
      "/Users/adiepresent/anaconda3/lib/python3.7/site-packages/sklearn/linear_model/logistic.py:433: FutureWarning: Default solver will be changed to 'lbfgs' in 0.22. Specify a solver to silence this warning.\n",
      "  FutureWarning)\n"
     ]
    },
    {
     "name": "stdout",
     "output_type": "stream",
     "text": [
      "[-0.60622501  0.41646465 -0.80472341 -2.01350516 -0.45811878 -3.88309401\n",
      "  1.26760992 -0.17273068  0.05736292]\n"
     ]
    }
   ],
   "source": [
    "X = data[[\"acousticness\",\"danceability\",\"energy\",\"instrumentalness\",\"liveness\",\"speechiness\",\"valence\",\"artist_already_pop\",\"popularity\"]]\n",
    "y = data[\"Top100\"]\n",
    "clf = LogisticRegression(random_state=0).fit(X, y)\n",
    "clf.fit(X, y)\n",
    "print(clf.coef_[0])\n",
    "weights = pd.DataFrame(columns=[\"Weights\", \"Coefficient\"])\n",
    "weights[\"Weights\"] = clf.coef_[0]\n",
    "weights[\"Coefficient\"] = X.columns"
   ]
  },
  {
   "cell_type": "code",
   "execution_count": 79,
   "metadata": {},
   "outputs": [
    {
     "data": {
      "text/html": [
       "<div>\n",
       "<style scoped>\n",
       "    .dataframe tbody tr th:only-of-type {\n",
       "        vertical-align: middle;\n",
       "    }\n",
       "\n",
       "    .dataframe tbody tr th {\n",
       "        vertical-align: top;\n",
       "    }\n",
       "\n",
       "    .dataframe thead th {\n",
       "        text-align: right;\n",
       "    }\n",
       "</style>\n",
       "<table border=\"1\" class=\"dataframe\">\n",
       "  <thead>\n",
       "    <tr style=\"text-align: right;\">\n",
       "      <th></th>\n",
       "      <th>Weights</th>\n",
       "      <th>Coefficient</th>\n",
       "    </tr>\n",
       "  </thead>\n",
       "  <tbody>\n",
       "    <tr>\n",
       "      <th>5</th>\n",
       "      <td>-3.883094</td>\n",
       "      <td>speechiness</td>\n",
       "    </tr>\n",
       "    <tr>\n",
       "      <th>3</th>\n",
       "      <td>-2.013505</td>\n",
       "      <td>instrumentalness</td>\n",
       "    </tr>\n",
       "    <tr>\n",
       "      <th>6</th>\n",
       "      <td>1.267610</td>\n",
       "      <td>valence</td>\n",
       "    </tr>\n",
       "    <tr>\n",
       "      <th>2</th>\n",
       "      <td>-0.804723</td>\n",
       "      <td>energy</td>\n",
       "    </tr>\n",
       "    <tr>\n",
       "      <th>0</th>\n",
       "      <td>-0.606225</td>\n",
       "      <td>acousticness</td>\n",
       "    </tr>\n",
       "    <tr>\n",
       "      <th>4</th>\n",
       "      <td>-0.458119</td>\n",
       "      <td>liveness</td>\n",
       "    </tr>\n",
       "    <tr>\n",
       "      <th>1</th>\n",
       "      <td>0.416465</td>\n",
       "      <td>danceability</td>\n",
       "    </tr>\n",
       "    <tr>\n",
       "      <th>7</th>\n",
       "      <td>-0.172731</td>\n",
       "      <td>artist_already_pop</td>\n",
       "    </tr>\n",
       "    <tr>\n",
       "      <th>8</th>\n",
       "      <td>0.057363</td>\n",
       "      <td>popularity</td>\n",
       "    </tr>\n",
       "  </tbody>\n",
       "</table>\n",
       "</div>"
      ],
      "text/plain": [
       "    Weights         Coefficient\n",
       "5 -3.883094         speechiness\n",
       "3 -2.013505    instrumentalness\n",
       "6  1.267610             valence\n",
       "2 -0.804723              energy\n",
       "0 -0.606225        acousticness\n",
       "4 -0.458119            liveness\n",
       "1  0.416465        danceability\n",
       "7 -0.172731  artist_already_pop\n",
       "8  0.057363          popularity"
      ]
     },
     "execution_count": 79,
     "metadata": {},
     "output_type": "execute_result"
    }
   ],
   "source": [
    "weights.reindex(weights.Weights.abs().sort_values(ascending=False).index)"
   ]
  },
  {
   "cell_type": "code",
   "execution_count": null,
   "metadata": {},
   "outputs": [],
   "source": []
  }
 ],
 "metadata": {
  "kernelspec": {
   "display_name": "Python 3",
   "language": "python",
   "name": "python3"
  },
  "language_info": {
   "codemirror_mode": {
    "name": "ipython",
    "version": 3
   },
   "file_extension": ".py",
   "mimetype": "text/x-python",
   "name": "python",
   "nbconvert_exporter": "python",
   "pygments_lexer": "ipython3",
   "version": "3.7.3"
  }
 },
 "nbformat": 4,
 "nbformat_minor": 2
}
